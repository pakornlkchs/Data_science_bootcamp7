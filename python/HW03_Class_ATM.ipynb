{
  "nbformat": 4,
  "nbformat_minor": 0,
  "metadata": {
    "colab": {
      "provenance": []
    },
    "kernelspec": {
      "name": "python3",
      "display_name": "Python 3"
    },
    "language_info": {
      "name": "python"
    }
  },
  "cells": [
    {
      "cell_type": "markdown",
      "source": [
        "# HW03 - OOP ATM\n",
        "- object oriented programming\n",
        "- create class ATM"
      ],
      "metadata": {
        "id": "EvsrjFPnRcbJ"
      }
    },
    {
      "cell_type": "code",
      "source": [
        "class Atm:\n",
        "    def __init__(self, id, bank, location, balance, pin):\n",
        "        self.id = id\n",
        "        self.bank = bank\n",
        "        self.location = location\n",
        "        self.balance = balance\n",
        "        self.pin = pin\n",
        "\n",
        "    def login(self):\n",
        "        n_try = 0\n",
        "        while True:\n",
        "            enter_pin = input(f\"Please enter security pin\\n\")\n",
        "            if self.pin == int(enter_pin):\n",
        "                print(\"Login successfully!\")\n",
        "                break\n",
        "            elif n_try < 2:\n",
        "                n_try += 1\n",
        "                print(\"Please try again\")\n",
        "            else:\n",
        "                print(\"Your account is suspended, Please contact bank staff\")\n",
        "                break\n",
        "        \n",
        "    def deposit(self, dep_amount):\n",
        "        self.balance += dep_amount\n",
        "        print(f\"[{self.id}] deposited {dep_amount} THB\\n[{self.id}] current balance is {self.balance} THB\")\n",
        "    \n",
        "    def withdraw(self, wit_amount):\n",
        "        if self.balance < wit_amount:\n",
        "            print(f\"id: [{self.id}] doesn't have enough balance to withdraw\")\n",
        "        else:\n",
        "            self.balance -= wit_amount\n",
        "            print(f\"[{self.id}] withdrew {wit_amount} THB\\n[{self.id}] current balance is {self.balance} THB\")\n",
        "    \n",
        "    def transfer(self, new_id, tf_amount):\n",
        "        if self.balance < tf_amount:\n",
        "            print(f\"id: [{self.id}] doesn't have enough balance to transfer\")\n",
        "        else:\n",
        "            self.balance -= tf_amount\n",
        "            new_id.balance += tf_amount\n",
        "            print(f\"[{self.id}] transfer to [{new_id.id}]: {tf_amount} THB\")\n",
        "            print(f\"[{self.id}] balance: {self.balance} THB\")\n",
        "            print(f\"[{new_id.id}] balance: {new_id.balance} THB\")\n",
        "\n",
        "    def check_balance(self):\n",
        "        print(f\"[{self.id}] balance is {self.balance} THB\") \n"
      ],
      "metadata": {
        "id": "9cd5ZAnGRuz3"
      },
      "execution_count": null,
      "outputs": []
    },
    {
      "cell_type": "code",
      "source": [
        "acc1 = Atm(\"123456\", \"scb\", \"BKK\", 2000, 1234)\n",
        "acc2 = Atm(\"246810\", \"kbank\", \"BKK\", 1000, 1111)\n",
        "acc3 = Atm(\"135791\", \"ttb\", \"CNX\", 5000, 9999)"
      ],
      "metadata": {
        "id": "lIVjuuFMTBX8"
      },
      "execution_count": null,
      "outputs": []
    },
    {
      "cell_type": "code",
      "source": [
        "acc1.deposit(3000)\n",
        "acc2.withdraw(1000)\n",
        "acc3.transfer(acc2, 2000)\n"
      ],
      "metadata": {
        "colab": {
          "base_uri": "https://localhost:8080/"
        },
        "id": "2ytw9RiyTKT8",
        "outputId": "8b03babf-5ba2-4fd1-80ef-28103ed351b2"
      },
      "execution_count": null,
      "outputs": [
        {
          "output_type": "stream",
          "name": "stdout",
          "text": [
            "[123456] deposited 3000 THB\n",
            "[123456] current balance is 5000 THB\n",
            "[246810] withdrew 1000 THB\n",
            "[246810] current balance is 0 THB\n",
            "[135791] transfer to [246810]: 2000 THB\n",
            "[135791] balance: 3000 THB\n",
            "[246810] balance: 2000 THB\n"
          ]
        }
      ]
    },
    {
      "cell_type": "code",
      "source": [
        "acc1.login()"
      ],
      "metadata": {
        "colab": {
          "base_uri": "https://localhost:8080/"
        },
        "id": "99sKrf46wnWA",
        "outputId": "a12bf963-58ae-4262-f1cc-d24bcb9e528b"
      },
      "execution_count": null,
      "outputs": [
        {
          "output_type": "stream",
          "name": "stdout",
          "text": [
            "Please enter security pin\n",
            "1111\n",
            "Please try again\n",
            "Please enter security pin\n",
            "1234\n",
            "Login successfully!\n"
          ]
        }
      ]
    },
    {
      "cell_type": "code",
      "source": [
        "acc3.check_balance()"
      ],
      "metadata": {
        "colab": {
          "base_uri": "https://localhost:8080/"
        },
        "id": "uuFN9zGV_jp6",
        "outputId": "e2135706-4e4f-4dc4-9c55-c93c9c7e5ecf"
      },
      "execution_count": null,
      "outputs": [
        {
          "output_type": "stream",
          "name": "stdout",
          "text": [
            "[135791] balance is 3000 THB\n"
          ]
        }
      ]
    }
  ]
}