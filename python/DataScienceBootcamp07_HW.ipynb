{
  "nbformat": 4,
  "nbformat_minor": 0,
  "metadata": {
    "colab": {
      "provenance": []
    },
    "kernelspec": {
      "name": "python3",
      "display_name": "Python 3"
    },
    "language_info": {
      "name": "python"
    }
  },
  "cells": [
    {
      "cell_type": "markdown",
      "source": [
        "# HW01 - CHATBOT\n",
        "- create function to receive food orders for italian restaurant called \"Italia Pizzaria\""
      ],
      "metadata": {
        "id": "M6BlzT6KyHz_"
      }
    },
    {
      "cell_type": "code",
      "source": [
        "def order_pizza():\n",
        "    orders = []\n",
        "    pizza_menu = [\"Hawaiian\", \"Meat deluxe\", \"Pepporoni\"]\n",
        "    pasta_menu = [\"Spaghetti Carbonara\", \"Chilli bacon pasta\", \"Mushroom cream spaghetti\"]\n",
        "    soup_menu = [\"Corn soup\", \"Pumpkin soup\", \"Mushroom soup\"]\n",
        "    drinks_menu = [\"Cola\", \"Water\", \"Orange juice\"]\n",
        "\n",
        "    print(\"Hi, welcome to Italia Pizzaria.\")\n",
        "    menu = input(\"\"\"What would you like today?\n",
        "    (please select by number) \n",
        "    [1] Pizza\n",
        "    [2] Pasta\n",
        "    [3] Soup\n",
        "    [4] Drinks\n",
        "    [5] No, Thanks\n",
        "    \"\"\")\n",
        "    \n",
        "    while int(menu) != 5:\n",
        "        if int(menu) == 1:\n",
        "            pizza_toppings = input(\"Okay! what pizza topping would you like?\\n[1] Hawaiian\\n[2] Meat deluxe\\n[3] Pepporoni\\n \")\n",
        "            pizza_size = input(\"What size do you want (S/M/L)? \")\n",
        "            pizza_order = pizza_menu[int(pizza_toppings) - 1] + \" pizza: \" + pizza_size + \" size\"\n",
        "            orders.append(pizza_order)\n",
        "        elif int(menu) == 2:\n",
        "            pasta = input(f\"Nice! Which kind of pasta would you like?\\n[1] Spaghetti Carbonara\\n[2] Chilli bacon pasta\\n[3] Mushroom cream spaghetti\\n\")\n",
        "            orders.append(pasta_menu[int(pasta) - 1])\n",
        "        elif int(menu) == 3:\n",
        "            soup = input(\"What kind of soup would you like?\\n[1] Corn soup\\n[2] Pumpkin soup\\n[3] Mushroom soup\\n\")\n",
        "            orders.append(soup_menu[int(soup) - 1])\n",
        "        elif int(menu) == 4:\n",
        "            drinks = input(\"We have [1] Cola, [2] Water, and [3] Orange juice. What would you like? \")\n",
        "            orders.append(drinks_menu[int(drinks) -1])\n",
        "        else:\n",
        "            print(\"please choose number between 1 - 5\")\n",
        "        menu = input(\"\"\"anything else? (please select by number)\n",
        "        [1] Pizza\n",
        "        [2] Pasta\n",
        "        [3] Soup\n",
        "        [4] Drinks\n",
        "        [5] No, Thanks \n",
        "        \"\"\")\n",
        "\n",
        "    if (len(orders) == 0 and int(menu) == 5):\n",
        "        print(\"Maybe we can serve you next time :)\")\n",
        "\n",
        "    else:\n",
        "        print(\"Okay! Let me repeat your order.\")\n",
        "        count = 0\n",
        "        for order in orders:\n",
        "            count += 1\n",
        "            print(str(count) + \". \" +  order)\n",
        "\n",
        "        print(\"Thank you for time, your food will be ready in 5 minutes\")   "
      ],
      "metadata": {
        "id": "Vr8e-Wd-yNDD"
      },
      "execution_count": null,
      "outputs": []
    },
    {
      "cell_type": "code",
      "source": [
        "order_pizza()"
      ],
      "metadata": {
        "colab": {
          "base_uri": "https://localhost:8080/"
        },
        "id": "u8oSmwlWRfgU",
        "outputId": "c14873a5-5dd3-4afb-d5dc-78b5095d2b5a"
      },
      "execution_count": null,
      "outputs": [
        {
          "output_type": "stream",
          "name": "stdout",
          "text": [
            "Hi, welcome to Italia Pizzaria.\n",
            "What would you like today?\n",
            "    (please select by number) \n",
            "    [1] Pizza\n",
            "    [2] Pasta\n",
            "    [3] Soup\n",
            "    [4] Drinks\n",
            "    [5] No, Thanks\n",
            "    1\n",
            "Okay! what pizza topping would you like?\n",
            "[1] Hawaiian\n",
            "[2] Meat deluxe\n",
            "[3] Pepporoni\n",
            " 1\n",
            "What size do you want (S/M/L)? M\n",
            "anything else? (please select by number)\n",
            "        [1] Pizza\n",
            "        [2] Pasta\n",
            "        [3] Soup\n",
            "        [4] Drinks\n",
            "        [5] No, Thanks \n",
            "        2\n",
            "Nice! Which kind of pasta would you like?\n",
            "[1] Spaghetti Carbonara\n",
            "[2] Chilli bacon pasta\n",
            "[3] Mushroom cream spaghetti\n",
            "1\n",
            "anything else? (please select by number)\n",
            "        [1] Pizza\n",
            "        [2] Pasta\n",
            "        [3] Soup\n",
            "        [4] Drinks\n",
            "        [5] No, Thanks \n",
            "        3\n",
            "What kind of soup would you like?\n",
            "[1] Corn soup\n",
            "[2] Pumpkin soup\n",
            "[3] Mushroom soup\n",
            "3\n",
            "anything else? (please select by number)\n",
            "        [1] Pizza\n",
            "        [2] Pasta\n",
            "        [3] Soup\n",
            "        [4] Drinks\n",
            "        [5] No, Thanks \n",
            "        4\n",
            "We have [1] Cola, [2] Water, and [3] Orange juice. What would you like? 2\n",
            "anything else? (please select by number)\n",
            "        [1] Pizza\n",
            "        [2] Pasta\n",
            "        [3] Soup\n",
            "        [4] Drinks\n",
            "        [5] No, Thanks \n",
            "        5\n",
            "Okay! Let me repeat your order.\n",
            "1. Hawaiian pizza: M size\n",
            "2. Spaghetti Carbonara\n",
            "3. Mushroom soup\n",
            "4. Water\n",
            "Thank you for time, your food will be ready in 5 minutes\n"
          ]
        }
      ]
    },
    {
      "cell_type": "markdown",
      "source": [
        "# HW02 - Rock Paper Scissors\n",
        "### create rock-paper-scissors game \n",
        "- rock beats scissors\n",
        "- scissors beats paper\n",
        "- paper beats rock"
      ],
      "metadata": {
        "id": "XmaQRccWN06o"
      }
    },
    {
      "cell_type": "code",
      "source": [
        "import random\n",
        "\n",
        "def pyc():\n",
        "    player_score = 0\n",
        "    computer_score = 0\n",
        "    player = \"\"\n",
        "\n",
        "    print(\"\"\"Welcome to Rock Paper Scissors game!\n",
        "    You can choose Rock[R], Paper[P], Scissors[S] or type 'exit' if you're done\n",
        "    Let's start!!!\"\"\")\n",
        "\n",
        "    while True:\n",
        "        player = input(f\"Please select [R]Rock, [P]Paper, [S]Scissors\\n\")\n",
        "        computer = random.choice([\"R\", \"P\", \"S\"])\n",
        "        if (player.upper() != \"R\") & (player.upper() != \"P\") & (player.upper() != \"S\") & (player.lower() != \"exit\"):\n",
        "            print(\"Please select only given characters.\")\n",
        "        else:\n",
        "            if ((player.upper() == \"R\") & (computer == \"S\")) | ((player.upper() == \"S\") & (computer == \"P\")) | ((player.upper() == \"P\") & (computer == \"R\")):\n",
        "                print(f\"player: {player}, computer: {computer}\")\n",
        "                print(\"You Win\")\n",
        "                player_score += 1\n",
        "            elif (player.upper() == computer):\n",
        "                print(f\"player: {player}, computer: {computer}\")\n",
        "                print(\"Tie\")\n",
        "            elif player == \"exit\":\n",
        "                break\n",
        "            else:\n",
        "                print(f\"player: {player}, computer: {computer}\")\n",
        "                print(\"You Lose\")\n",
        "                computer_score += 1\n",
        "\n",
        "    print(f\"Summary:\\nplayer score = {player_score}\\ncomputer score = {computer_score}\") \n",
        "\n",
        "    \n",
        "    "
      ],
      "metadata": {
        "id": "9ifgssOCN9p6"
      },
      "execution_count": null,
      "outputs": []
    },
    {
      "cell_type": "code",
      "source": [
        "pyc()"
      ],
      "metadata": {
        "colab": {
          "base_uri": "https://localhost:8080/"
        },
        "id": "PLY_pLGbjC0I",
        "outputId": "32425d61-f05f-48b2-f200-b8722e8bbd52"
      },
      "execution_count": null,
      "outputs": [
        {
          "output_type": "stream",
          "name": "stdout",
          "text": [
            "Welcome to Rock Paper Scissors game!\n",
            "    You can choose Rock[R], Paper[P], Scissors[S] or type 'exit' if you're done\n",
            "    Let's start!!!\n",
            "Please select [R]Rock, [P]Paper, [S]Scissors\n",
            "r\n",
            "player: r, computer: R\n",
            "Tie\n",
            "Please select [R]Rock, [P]Paper, [S]Scissors\n",
            "s\n",
            "player: s, computer: S\n",
            "Tie\n",
            "Please select [R]Rock, [P]Paper, [S]Scissors\n",
            "p\n",
            "player: p, computer: S\n",
            "You Lose\n",
            "Please select [R]Rock, [P]Paper, [S]Scissors\n",
            "s\n",
            "player: s, computer: R\n",
            "You Lose\n",
            "Please select [R]Rock, [P]Paper, [S]Scissors\n",
            "r\n",
            "player: r, computer: P\n",
            "You Lose\n",
            "Please select [R]Rock, [P]Paper, [S]Scissors\n",
            "r\n",
            "player: r, computer: P\n",
            "You Lose\n",
            "Please select [R]Rock, [P]Paper, [S]Scissors\n",
            "r\n",
            "player: r, computer: P\n",
            "You Lose\n",
            "Please select [R]Rock, [P]Paper, [S]Scissors\n",
            "r\n",
            "player: r, computer: R\n",
            "Tie\n",
            "Please select [R]Rock, [P]Paper, [S]Scissors\n",
            "p\n",
            "player: p, computer: P\n",
            "Tie\n",
            "Please select [R]Rock, [P]Paper, [S]Scissors\n",
            "s\n",
            "player: s, computer: S\n",
            "Tie\n",
            "Please select [R]Rock, [P]Paper, [S]Scissors\n",
            "exit\n",
            "Summary:\n",
            "player score = 0\n",
            "computer score = 5\n"
          ]
        }
      ]
    },
    {
      "cell_type": "markdown",
      "source": [
        "# HW03 - OOP ATM\n",
        "- create class ATM"
      ],
      "metadata": {
        "id": "EvsrjFPnRcbJ"
      }
    },
    {
      "cell_type": "code",
      "source": [
        "class Atm:\n",
        "    def __init__(self, id, bank, location, balance, pin):\n",
        "        self.id = id\n",
        "        self.bank = bank\n",
        "        self.location = location\n",
        "        self.balance = balance\n",
        "        self.pin = pin\n",
        "\n",
        "    def login(self):\n",
        "        n_try = 0\n",
        "        while True:\n",
        "            enter_pin = input(f\"Please enter security pin\\n\")\n",
        "            if self.pin == int(enter_pin):\n",
        "                print(\"Login successfully!\")\n",
        "                break\n",
        "            elif n_try < 2:\n",
        "                n_try += 1\n",
        "                print(\"Please try again\")\n",
        "            else:\n",
        "                print(\"Your account is suspended, Please contact bank staff\")\n",
        "                break\n",
        "        \n",
        "    def deposit(self, dep_amount):\n",
        "        self.balance += dep_amount\n",
        "        print(f\"[{self.id}] deposited {dep_amount} THB\\n[{self.id}] current balance is {self.balance} THB\")\n",
        "    \n",
        "    def withdraw(self, wit_amount):\n",
        "        if self.balance < wit_amount:\n",
        "            print(f\"id: [{self.id}] doesn't have enough balance to withdraw\")\n",
        "        else:\n",
        "            self.balance -= wit_amount\n",
        "            print(f\"[{self.id}] withdrew {wit_amount} THB\\n[{self.id}] current balance is {self.balance} THB\")\n",
        "    \n",
        "    def transfer(self, new_id, tf_amount):\n",
        "        if self.balance < tf_amount:\n",
        "            print(f\"id: [{self.id}] doesn't have enough balance to transfer\")\n",
        "        else:\n",
        "            self.balance -= tf_amount\n",
        "            new_id.balance += tf_amount\n",
        "            print(f\"[{self.id}] transfer to [{new_id.id}]: {tf_amount} THB\")\n",
        "            print(f\"[{self.id}] balance: {self.balance} THB\")\n",
        "            print(f\"[{new_id.id}] balance: {new_id.balance} THB\")\n",
        "\n",
        "    def check_balance(self):\n",
        "        print(f\"[{self.id}] balance is {self.balance} THB\") \n"
      ],
      "metadata": {
        "id": "9cd5ZAnGRuz3"
      },
      "execution_count": null,
      "outputs": []
    },
    {
      "cell_type": "code",
      "source": [
        "acc1 = Atm(\"123456\", \"scb\", \"BKK\", 2000, 1234)\n",
        "acc2 = Atm(\"246810\", \"kbank\", \"BKK\", 1000, 1111)\n",
        "acc3 = Atm(\"135791\", \"ttb\", \"CNX\", 5000, 9999)"
      ],
      "metadata": {
        "id": "lIVjuuFMTBX8"
      },
      "execution_count": null,
      "outputs": []
    },
    {
      "cell_type": "code",
      "source": [
        "acc1.deposit(3000)\n",
        "acc2.withdraw(1000)\n",
        "acc3.transfer(acc2, 2000)\n"
      ],
      "metadata": {
        "colab": {
          "base_uri": "https://localhost:8080/"
        },
        "id": "2ytw9RiyTKT8",
        "outputId": "8b03babf-5ba2-4fd1-80ef-28103ed351b2"
      },
      "execution_count": null,
      "outputs": [
        {
          "output_type": "stream",
          "name": "stdout",
          "text": [
            "[123456] deposited 3000 THB\n",
            "[123456] current balance is 5000 THB\n",
            "[246810] withdrew 1000 THB\n",
            "[246810] current balance is 0 THB\n",
            "[135791] transfer to [246810]: 2000 THB\n",
            "[135791] balance: 3000 THB\n",
            "[246810] balance: 2000 THB\n"
          ]
        }
      ]
    },
    {
      "cell_type": "code",
      "source": [
        "acc1.login()"
      ],
      "metadata": {
        "colab": {
          "base_uri": "https://localhost:8080/"
        },
        "id": "99sKrf46wnWA",
        "outputId": "a12bf963-58ae-4262-f1cc-d24bcb9e528b"
      },
      "execution_count": null,
      "outputs": [
        {
          "output_type": "stream",
          "name": "stdout",
          "text": [
            "Please enter security pin\n",
            "1111\n",
            "Please try again\n",
            "Please enter security pin\n",
            "1234\n",
            "Login successfully!\n"
          ]
        }
      ]
    },
    {
      "cell_type": "code",
      "source": [
        "acc3.check_balance()"
      ],
      "metadata": {
        "colab": {
          "base_uri": "https://localhost:8080/"
        },
        "id": "uuFN9zGV_jp6",
        "outputId": "e2135706-4e4f-4dc4-9c55-c93c9c7e5ecf"
      },
      "execution_count": null,
      "outputs": [
        {
          "output_type": "stream",
          "name": "stdout",
          "text": [
            "[135791] balance is 3000 THB\n"
          ]
        }
      ]
    }
  ]
}