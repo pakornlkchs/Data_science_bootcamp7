{
  "nbformat": 4,
  "nbformat_minor": 0,
  "metadata": {
    "colab": {
      "provenance": []
    },
    "kernelspec": {
      "name": "python3",
      "display_name": "Python 3"
    },
    "language_info": {
      "name": "python"
    }
  },
  "cells": [
    {
      "cell_type": "markdown",
      "source": [
        "# HW01 - CHATBOT\n",
        "- create function to receive food orders for italian restaurant called \"Italia Pizzaria\""
      ],
      "metadata": {
        "id": "M6BlzT6KyHz_"
      }
    },
    {
      "cell_type": "code",
      "source": [
        "def order_pizza():\n",
        "    orders = []\n",
        "    pizza_menu = [\"Hawaiian\", \"Meat deluxe\", \"Pepporoni\"]\n",
        "    pasta_menu = [\"Spaghetti Carbonara\", \"Chilli bacon pasta\", \"Mushroom cream spaghetti\"]\n",
        "    soup_menu = [\"Corn soup\", \"Pumpkin soup\", \"Mushroom soup\"]\n",
        "    drinks_menu = [\"Cola\", \"Water\", \"Orange juice\"]\n",
        "\n",
        "    print(\"Hi, welcome to Italia Pizzaria.\")\n",
        "    menu = input(\"\"\"What would you like today?\n",
        "    (please select by number) \n",
        "    [1] Pizza\n",
        "    [2] Pasta\n",
        "    [3] Soup\n",
        "    [4] Drinks\n",
        "    [5] No, Thanks\n",
        "    \"\"\")\n",
        "    \n",
        "    while int(menu) != 5:\n",
        "        if int(menu) == 1:\n",
        "            pizza_toppings = input(\"Okay! what pizza topping would you like?\\n[1] Hawaiian\\n[2] Meat deluxe\\n[3] Pepporoni\\n \")\n",
        "            pizza_size = input(\"What size do you want (S/M/L)? \")\n",
        "            pizza_order = pizza_menu[int(pizza_toppings) - 1] + \" pizza: \" + pizza_size + \" size\"\n",
        "            orders.append(pizza_order)\n",
        "        elif int(menu) == 2:\n",
        "            pasta = input(f\"Nice! Which kind of pasta would you like?\\n[1] Spaghetti Carbonara\\n[2] Chilli bacon pasta\\n[3] Mushroom cream spaghetti\\n\")\n",
        "            orders.append(pasta_menu[int(pasta) - 1])\n",
        "        elif int(menu) == 3:\n",
        "            soup = input(\"What kind of soup would you like?\\n[1] Corn soup\\n[2] Pumpkin soup\\n[3] Mushroom soup\\n\")\n",
        "            orders.append(soup_menu[int(soup) - 1])\n",
        "        elif int(menu) == 4:\n",
        "            drinks = input(\"We have [1] Cola, [2] Water, and [3] Orange juice. What would you like? \")\n",
        "            orders.append(drinks_menu[int(drinks) -1])\n",
        "        else:\n",
        "            print(\"please choose number between 1 - 5\")\n",
        "        menu = input(\"\"\"anything else? (please select by number)\n",
        "        [1] Pizza\n",
        "        [2] Pasta\n",
        "        [3] Soup\n",
        "        [4] Drinks\n",
        "        [5] No, Thanks \n",
        "        \"\"\")\n",
        "\n",
        "    if (len(orders) == 0 and int(menu) == 5):\n",
        "        print(\"Maybe we can serve you next time :)\")\n",
        "\n",
        "    else:\n",
        "        print(\"Okay! Let me repeat your order.\")\n",
        "        count = 0\n",
        "        for order in orders:\n",
        "            count += 1\n",
        "            print(str(count) + \". \" +  order)\n",
        "\n",
        "        print(\"Thank you for time, your food will be ready in 5 minutes\")   "
      ],
      "metadata": {
        "id": "Vr8e-Wd-yNDD"
      },
      "execution_count": null,
      "outputs": []
    },
    {
      "cell_type": "code",
      "source": [
        "order_pizza()"
      ],
      "metadata": {
        "colab": {
          "base_uri": "https://localhost:8080/"
        },
        "id": "u8oSmwlWRfgU",
        "outputId": "c14873a5-5dd3-4afb-d5dc-78b5095d2b5a"
      },
      "execution_count": null,
      "outputs": [
        {
          "output_type": "stream",
          "name": "stdout",
          "text": [
            "Hi, welcome to Italia Pizzaria.\n",
            "What would you like today?\n",
            "    (please select by number) \n",
            "    [1] Pizza\n",
            "    [2] Pasta\n",
            "    [3] Soup\n",
            "    [4] Drinks\n",
            "    [5] No, Thanks\n",
            "    1\n",
            "Okay! what pizza topping would you like?\n",
            "[1] Hawaiian\n",
            "[2] Meat deluxe\n",
            "[3] Pepporoni\n",
            " 1\n",
            "What size do you want (S/M/L)? M\n",
            "anything else? (please select by number)\n",
            "        [1] Pizza\n",
            "        [2] Pasta\n",
            "        [3] Soup\n",
            "        [4] Drinks\n",
            "        [5] No, Thanks \n",
            "        2\n",
            "Nice! Which kind of pasta would you like?\n",
            "[1] Spaghetti Carbonara\n",
            "[2] Chilli bacon pasta\n",
            "[3] Mushroom cream spaghetti\n",
            "1\n",
            "anything else? (please select by number)\n",
            "        [1] Pizza\n",
            "        [2] Pasta\n",
            "        [3] Soup\n",
            "        [4] Drinks\n",
            "        [5] No, Thanks \n",
            "        3\n",
            "What kind of soup would you like?\n",
            "[1] Corn soup\n",
            "[2] Pumpkin soup\n",
            "[3] Mushroom soup\n",
            "3\n",
            "anything else? (please select by number)\n",
            "        [1] Pizza\n",
            "        [2] Pasta\n",
            "        [3] Soup\n",
            "        [4] Drinks\n",
            "        [5] No, Thanks \n",
            "        4\n",
            "We have [1] Cola, [2] Water, and [3] Orange juice. What would you like? 2\n",
            "anything else? (please select by number)\n",
            "        [1] Pizza\n",
            "        [2] Pasta\n",
            "        [3] Soup\n",
            "        [4] Drinks\n",
            "        [5] No, Thanks \n",
            "        5\n",
            "Okay! Let me repeat your order.\n",
            "1. Hawaiian pizza: M size\n",
            "2. Spaghetti Carbonara\n",
            "3. Mushroom soup\n",
            "4. Water\n",
            "Thank you for time, your food will be ready in 5 minutes\n"
          ]
        }
      ]
    }
  ]
}