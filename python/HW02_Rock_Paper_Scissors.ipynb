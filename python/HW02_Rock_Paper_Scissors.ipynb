{
  "nbformat": 4,
  "nbformat_minor": 0,
  "metadata": {
    "colab": {
      "provenance": []
    },
    "kernelspec": {
      "name": "python3",
      "display_name": "Python 3"
    },
    "language_info": {
      "name": "python"
    }
  },
  "cells": [
    {
      "cell_type": "markdown",
      "source": [
        "# HW02 - Rock Paper Scissors\n",
        "### create rock-paper-scissors game \n",
        "- rock beats scissors\n",
        "- scissors beats paper\n",
        "- paper beats rock"
      ],
      "metadata": {
        "id": "XmaQRccWN06o"
      }
    },
    {
      "cell_type": "code",
      "source": [
        "import random\n",
        "\n",
        "def pyc():\n",
        "    player_score = 0\n",
        "    computer_score = 0\n",
        "    player = \"\"\n",
        "\n",
        "    print(\"\"\"Welcome to Rock Paper Scissors game!\n",
        "    You can choose Rock[R], Paper[P], Scissors[S] or type 'exit' if you're done\n",
        "    Let's start!!!\"\"\")\n",
        "\n",
        "    while True:\n",
        "        player = input(f\"Please select [R]Rock, [P]Paper, [S]Scissors\\n\")\n",
        "        computer = random.choice([\"R\", \"P\", \"S\"])\n",
        "        if (player.upper() != \"R\") & (player.upper() != \"P\") & (player.upper() != \"S\") & (player.lower() != \"exit\"):\n",
        "            print(\"Please select only given characters.\")\n",
        "        else:\n",
        "            if ((player.upper() == \"R\") & (computer == \"S\")) | ((player.upper() == \"S\") & (computer == \"P\")) | ((player.upper() == \"P\") & (computer == \"R\")):\n",
        "                print(f\"player: {player}, computer: {computer}\")\n",
        "                print(\"You Win\")\n",
        "                player_score += 1\n",
        "            elif (player.upper() == computer):\n",
        "                print(f\"player: {player}, computer: {computer}\")\n",
        "                print(\"Tie\")\n",
        "            elif player == \"exit\":\n",
        "                break\n",
        "            else:\n",
        "                print(f\"player: {player}, computer: {computer}\")\n",
        "                print(\"You Lose\")\n",
        "                computer_score += 1\n",
        "\n",
        "    print(f\"Summary:\\nplayer score = {player_score}\\ncomputer score = {computer_score}\") \n",
        "\n",
        "    \n",
        "    "
      ],
      "metadata": {
        "id": "9ifgssOCN9p6"
      },
      "execution_count": null,
      "outputs": []
    },
    {
      "cell_type": "code",
      "source": [
        "pyc()"
      ],
      "metadata": {
        "colab": {
          "base_uri": "https://localhost:8080/"
        },
        "id": "PLY_pLGbjC0I",
        "outputId": "b109b3de-642d-452a-e843-adc0d49e921a"
      },
      "execution_count": null,
      "outputs": [
        {
          "output_type": "stream",
          "name": "stdout",
          "text": [
            "Welcome to Rock Paper Scissors game!\n",
            "    You can choose Rock[R], Paper[P], Scissors[S] or type 'exit' if you're done\n",
            "    Let's start!!!\n",
            "Please select [R]Rock, [P]Paper, [S]Scissors\n",
            "R\n",
            "player: R, computer: R\n",
            "Tie\n",
            "Please select [R]Rock, [P]Paper, [S]Scissors\n",
            "R\n",
            "player: R, computer: P\n",
            "You Lose\n",
            "Please select [R]Rock, [P]Paper, [S]Scissors\n",
            "P\n",
            "player: P, computer: R\n",
            "You Win\n",
            "Please select [R]Rock, [P]Paper, [S]Scissors\n",
            "S\n",
            "player: S, computer: P\n",
            "You Win\n",
            "Please select [R]Rock, [P]Paper, [S]Scissors\n",
            "P\n",
            "player: P, computer: S\n",
            "You Lose\n",
            "Please select [R]Rock, [P]Paper, [S]Scissors\n",
            "R\n",
            "player: R, computer: P\n",
            "You Lose\n",
            "Please select [R]Rock, [P]Paper, [S]Scissors\n",
            "S\n",
            "player: S, computer: R\n",
            "You Lose\n",
            "Please select [R]Rock, [P]Paper, [S]Scissors\n",
            "S\n",
            "player: S, computer: S\n",
            "Tie\n",
            "Please select [R]Rock, [P]Paper, [S]Scissors\n",
            "exit\n",
            "Summary:\n",
            "player score = 2\n",
            "computer score = 4\n"
          ]
        }
      ]
    }
  ]
}